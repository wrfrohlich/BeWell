{
 "cells": [
  {
   "cell_type": "markdown",
   "metadata": {},
   "source": [
    "<font size=\"6\" face=\"Times\"> <b>Create Train File</b> </font>"
   ]
  },
  {
   "cell_type": "markdown",
   "metadata": {},
   "source": [
    "<h3>Definition of Variables:"
   ]
  },
  {
   "cell_type": "code",
   "execution_count": 1,
   "metadata": {},
   "outputs": [],
   "source": [
    "reading_folder_train = \"D:/Unisinos/Bitalino/05 - Data CSV for ML/Participants - Train/\"\n",
    "reading_folder_test = \"D:/Unisinos/Bitalino/05 - Data CSV for ML/Participants - Test/\"\n",
    "writing_folder_train = \"D:/Unisinos/Bitalino/05 - Data CSV for ML/Machine Learning/Train/\"\n",
    "writing_folder_test = \"D:/Unisinos/Bitalino/05 - Data CSV for ML/Machine Learning/Test/\""
   ]
  },
  {
   "cell_type": "markdown",
   "metadata": {},
   "source": [
    "<h3>Libraries:"
   ]
  },
  {
   "cell_type": "code",
   "execution_count": 2,
   "metadata": {},
   "outputs": [],
   "source": [
    "import numpy as np\n",
    "import pandas as pd\n",
    "from os import listdir\n",
    "from os.path import isfile, join"
   ]
  },
  {
   "cell_type": "markdown",
   "metadata": {},
   "source": [
    "<h3>Functions:"
   ]
  },
  {
   "cell_type": "markdown",
   "metadata": {},
   "source": [
    "Function Read File - Import Data From CSV File"
   ]
  },
  {
   "cell_type": "code",
   "execution_count": 3,
   "metadata": {},
   "outputs": [],
   "source": [
    "def read_files(folder):\n",
    "    file_list = [f for f in listdir(folder) if isfile(join(folder, f))]\n",
    "    df = pd.DataFrame(columns = ['ECG','EMG','EDA', 'CATEGORY'])\n",
    "    \n",
    "    for file in file_list:\n",
    "        new_df = pd.read_csv(folder + file, sep=';', encoding='utf-8')\n",
    "        df = df.append(new_df)\n",
    "    \n",
    "    return df"
   ]
  },
  {
   "cell_type": "markdown",
   "metadata": {},
   "source": [
    "Function Save Files - Export Data Processed to a NPY File"
   ]
  },
  {
   "cell_type": "code",
   "execution_count": 4,
   "metadata": {},
   "outputs": [],
   "source": [
    "def save_files(df, folder, file):\n",
    "    size = len(df)\n",
    "    print(size)\n",
    "    limit = 500000\n",
    "    variable = 0\n",
    "    num_version = 0\n",
    "    \n",
    "    while (size > variable):\n",
    "        new_df = df[variable:(variable+limit)]\n",
    "        variable = variable + limit\n",
    "        num_version=num_version+1\n",
    "        version = str(num_version)\n",
    "        new_df.to_csv(folder + file + version + \".csv\", index=None, header=True, sep=';', encoding='utf-8')"
   ]
  },
  {
   "cell_type": "markdown",
   "metadata": {},
   "source": [
    "<h3>Data Processing"
   ]
  },
  {
   "cell_type": "markdown",
   "metadata": {},
   "source": [
    "<h4>Train"
   ]
  },
  {
   "cell_type": "code",
   "execution_count": 5,
   "metadata": {},
   "outputs": [],
   "source": [
    "df = read_files(reading_folder_train)"
   ]
  },
  {
   "cell_type": "code",
   "execution_count": 6,
   "metadata": {},
   "outputs": [
    {
     "name": "stdout",
     "output_type": "stream",
     "text": [
      "9534280\n"
     ]
    }
   ],
   "source": [
    "file = \"Train_File_\"\n",
    "save_files(df,writing_folder_train, file)"
   ]
  },
  {
   "cell_type": "markdown",
   "metadata": {},
   "source": [
    "<h4>Test"
   ]
  },
  {
   "cell_type": "code",
   "execution_count": 7,
   "metadata": {},
   "outputs": [],
   "source": [
    "df = read_files(reading_folder_test)"
   ]
  },
  {
   "cell_type": "code",
   "execution_count": 8,
   "metadata": {},
   "outputs": [
    {
     "name": "stdout",
     "output_type": "stream",
     "text": [
      "369655\n"
     ]
    }
   ],
   "source": [
    "file = \"Test_File_\"\n",
    "save_files(df,writing_folder_test, file)"
   ]
  }
 ],
 "metadata": {
  "kernelspec": {
   "display_name": "Python 3",
   "language": "python",
   "name": "python3"
  },
  "language_info": {
   "codemirror_mode": {
    "name": "ipython",
    "version": 3
   },
   "file_extension": ".py",
   "mimetype": "text/x-python",
   "name": "python",
   "nbconvert_exporter": "python",
   "pygments_lexer": "ipython3",
   "version": "3.8.3"
  }
 },
 "nbformat": 4,
 "nbformat_minor": 2
}
