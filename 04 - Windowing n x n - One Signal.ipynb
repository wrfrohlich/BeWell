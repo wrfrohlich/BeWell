{
 "cells": [
  {
   "cell_type": "markdown",
   "metadata": {},
   "source": [
    "<H1> Data Process - Windowing n x n - One Signal</H1>"
   ]
  },
  {
   "cell_type": "markdown",
   "metadata": {},
   "source": [
    "<h3>Definition of Variables:"
   ]
  },
  {
   "cell_type": "code",
   "execution_count": 13,
   "metadata": {},
   "outputs": [],
   "source": [
    "signal = \"ECG\"\n",
    "sampling_rate_reducer = 100\n",
    "reading_folder_train = \"Train/\"\n",
    "reading_folder_test = \"Test/\"\n",
    "writing_folder = \"NumPy/\" + signal + \"/\""
   ]
  },
  {
   "cell_type": "markdown",
   "metadata": {},
   "source": [
    "<h3>Libraries:"
   ]
  },
  {
   "cell_type": "code",
   "execution_count": 2,
   "metadata": {},
   "outputs": [],
   "source": [
    "import numpy as np\n",
    "import pandas as pd\n",
    "from os import listdir\n",
    "from os.path import isfile, join\n",
    "from biosppy import signals as bio_signals"
   ]
  },
  {
   "cell_type": "markdown",
   "metadata": {},
   "source": [
    "<h3>Functions:"
   ]
  },
  {
   "cell_type": "markdown",
   "metadata": {},
   "source": [
    "Function Windowing - Segmentation of Data with Windowing"
   ]
  },
  {
   "cell_type": "code",
   "execution_count": 3,
   "metadata": {},
   "outputs": [],
   "source": [
    "def windowing(df, sampling_rate_reducer):\n",
    "    new_df = pd.DataFrame(columns = [signal, 'CATEGORY'])\n",
    "\n",
    "    size = (len(df)-(sampling_rate_reducer*2))\n",
    "    \n",
    "    x = 0\n",
    "    position = 0\n",
    "    while (position < size) :\n",
    "        new_df = new_df.append(df[position:position+sampling_rate_reducer])\n",
    "        position = position+sampling_rate_reducer\n",
    "        auxiliary = df[position:position+sampling_rate_reducer] \n",
    "        delta = auxiliary[signal].mean()\n",
    "        delta_CATEGORY = df['CATEGORY'][position-sampling_rate_reducer]\n",
    "        position = position+sampling_rate_reducer\n",
    "        delta = pd.DataFrame({signal : [delta],'CATEGORY' : [delta_CATEGORY]})\n",
    "        new_df = new_df.append(delta)\n",
    "    \n",
    "    return new_df "
   ]
  },
  {
   "cell_type": "markdown",
   "metadata": {},
   "source": [
    "Function Dataset - Convert an Array of Values into a Dataset Matrix"
   ]
  },
  {
   "cell_type": "code",
   "execution_count": 4,
   "metadata": {},
   "outputs": [],
   "source": [
    "def create_dataset(dataset):\n",
    "    dataX, dataY = [], []\n",
    "    i = 0\n",
    "    \n",
    "    for i in range(len(dataset)):\n",
    "        dataX.append([float((dataset.iloc[i:(i + 1), 0]).values)])\n",
    "        auxiliary = str((dataset.iloc[i:(i + 1), 1]).values)\n",
    "        auxiliary = auxiliary.replace(auxiliary[0:2],\"\")\n",
    "        dataY.append(auxiliary.replace(auxiliary[(len(auxiliary)-2):(len(auxiliary))],\"\"))     \n",
    "    return dataX, dataY"
   ]
  },
  {
   "cell_type": "markdown",
   "metadata": {},
   "source": [
    "Function Filter Signal - Performs the Filtering of Signals"
   ]
  },
  {
   "cell_type": "code",
   "execution_count": 5,
   "metadata": {},
   "outputs": [],
   "source": [
    "def filter_signal(df):\n",
    "    \n",
    "    if (signal == \"ECG\"):\n",
    "        data = bio_signals.ecg.ecg(signal=df[signal], sampling_rate=1000, show=False)\n",
    "        new_df = pd.DataFrame(data['filtered'], columns=[signal])    \n",
    "    elif (signal == \"EDA\"):\n",
    "        data = bio_signals.eda.eda(signal=df[signal], sampling_rate=1000, show=False)\n",
    "        new_df = pd.DataFrame(data['filtered'], columns=[signal])\n",
    "    elif (signal == \"EMG\"):\n",
    "        data = bio_signals.emg.emg(signal=df[signal], sampling_rate=1000, show=False)\n",
    "        new_df = pd.DataFrame(data['filtered'], columns=[signal])\n",
    "    \n",
    "    new_df['CATEGORY'] = df['CATEGORY']\n",
    "    \n",
    "    return new_df"
   ]
  },
  {
   "cell_type": "markdown",
   "metadata": {},
   "source": [
    "Function Read File - Import Data From CSV File"
   ]
  },
  {
   "cell_type": "code",
   "execution_count": null,
   "metadata": {},
   "outputs": [],
   "source": [
    "def read_files(folder):\n",
    "    file_list = [f for f in listdir(folder) if isfile(join(folder, f))]\n",
    "    df = pd.DataFrame(columns = ['ECG','EMG','EDA', 'CATEGORY'])\n",
    "    \n",
    "    for file in file_list:\n",
    "        new_df = pd.read_csv(folder + file, sep=';', encoding='utf-8')\n",
    "        df = df.append(new_df)\n",
    "    \n",
    "    return df"
   ]
  },
  {
   "cell_type": "markdown",
   "metadata": {},
   "source": [
    "Function Save Files - Export Data Processed to a NPY File"
   ]
  },
  {
   "cell_type": "code",
   "execution_count": 7,
   "metadata": {},
   "outputs": [],
   "source": [
    "def save_files(first_file, second_file, name_first_file, name_second_file):\n",
    "    np.save(writing_folder + name_first_file, first_file)\n",
    "    np.save(writing_folder + name_second_file, second_file)"
   ]
  },
  {
   "cell_type": "markdown",
   "metadata": {},
   "source": [
    "<h3>Data Processing"
   ]
  },
  {
   "cell_type": "markdown",
   "metadata": {},
   "source": [
    "<h4>Test"
   ]
  },
  {
   "cell_type": "code",
   "execution_count": 8,
   "metadata": {},
   "outputs": [],
   "source": [
    "df = read_files(reading_folder_test)"
   ]
  },
  {
   "cell_type": "code",
   "execution_count": 9,
   "metadata": {},
   "outputs": [],
   "source": [
    "x_test = filter_signal(df)"
   ]
  },
  {
   "cell_type": "code",
   "execution_count": 10,
   "metadata": {},
   "outputs": [],
   "source": [
    "x_test = windowing(x_test, sampling_rate_reducer)"
   ]
  },
  {
   "cell_type": "code",
   "execution_count": 11,
   "metadata": {},
   "outputs": [],
   "source": [
    "x_test, y_test = create_dataset(x_test[[signal, 'CATEGORY']])"
   ]
  },
  {
   "cell_type": "code",
   "execution_count": 12,
   "metadata": {},
   "outputs": [],
   "source": [
    "save_files(x_test, y_test,\"x_test\",\"y_test\")"
   ]
  },
  {
   "cell_type": "markdown",
   "metadata": {},
   "source": [
    "<h4>Train"
   ]
  },
  {
   "cell_type": "code",
   "execution_count": 14,
   "metadata": {},
   "outputs": [],
   "source": [
    "df = read_files(reading_folder_train)"
   ]
  },
  {
   "cell_type": "code",
   "execution_count": 15,
   "metadata": {},
   "outputs": [],
   "source": [
    "x_train = filter_signal(df)"
   ]
  },
  {
   "cell_type": "code",
   "execution_count": 16,
   "metadata": {},
   "outputs": [],
   "source": [
    "x_train = windowing(x_train, sampling_rate_reducer)"
   ]
  },
  {
   "cell_type": "code",
   "execution_count": 17,
   "metadata": {},
   "outputs": [],
   "source": [
    "x_train, y_train = create_dataset(x_train[[signal, 'CATEGORY']])"
   ]
  },
  {
   "cell_type": "code",
   "execution_count": 18,
   "metadata": {},
   "outputs": [],
   "source": [
    "save_files(x_train, y_train,\"x_train\",\"y_train\")"
   ]
  }
 ],
 "metadata": {
  "kernelspec": {
   "display_name": "Python 3",
   "language": "python",
   "name": "python3"
  },
  "language_info": {
   "codemirror_mode": {
    "name": "ipython",
    "version": 3
   },
   "file_extension": ".py",
   "mimetype": "text/x-python",
   "name": "python",
   "nbconvert_exporter": "python",
   "pygments_lexer": "ipython3",
   "version": "3.8.3"
  }
 },
 "nbformat": 4,
 "nbformat_minor": 2
}
